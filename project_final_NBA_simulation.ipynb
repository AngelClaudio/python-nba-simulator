{
  "nbformat": 4,
  "nbformat_minor": 0,
  "metadata": {
    "colab": {
      "name": "project_final_NBA_simulation.ipynb",
      "provenance": [],
      "collapsed_sections": [],
      "authorship_tag": "ABX9TyMLOOOHTNYxv1UtppF3JzvL",
      "include_colab_link": true
    },
    "kernelspec": {
      "name": "python3",
      "display_name": "Python 3"
    }
  },
  "cells": [
    {
      "cell_type": "markdown",
      "metadata": {
        "id": "view-in-github",
        "colab_type": "text"
      },
      "source": [
        "<a href=\"https://colab.research.google.com/github/AngelClaudio/DATA604/blob/master/Final%20Project/project_final_NBA_simulation.ipynb\" target=\"_parent\"><img src=\"https://colab.research.google.com/assets/colab-badge.svg\" alt=\"Open In Colab\"/></a>"
      ]
    },
    {
      "cell_type": "markdown",
      "metadata": {
        "id": "UkjvlWa_0ufN",
        "colab_type": "text"
      },
      "source": [
        "# NBA Team vs Team Monte Carlo Simulator\n",
        "\n",
        "Author: Angel Claudio\n",
        "\n",
        "## Abstract\n",
        "\n",
        "The NBA 2018 season had a lot of close games and controversial topics that were hot among fans. As a data science student interested in data science for sports, I aim to dive into that season and gain some insight.\n",
        "\n",
        "I was introduced to the Monte Carlo simulation technique by my professor, this research is to solidify my skills with Monte Carlo as well as getting answers to the aforementioned controvery of the 2018 NBA season.\n",
        "\n",
        "## Monte Carlo\n",
        "\n",
        "Monte Carlo is a solution that uses random sampling from both inside and outside an area of interest to compute an integral. That being said it is inherently random, and the more points you have, the more accurate it is. The great thing about that, is can integrate somewhat the most arbritrary of shapes with the right amount of simulation [1].\n",
        "\n",
        "\n",
        "\n",
        "---\n",
        "\n"
      ]
    },
    {
      "cell_type": "markdown",
      "metadata": {
        "id": "wvSspC8KTWLi",
        "colab_type": "text"
      },
      "source": [
        "# Export, Transform, Load (ETL) Process\n",
        "\n",
        "We are going to bring over the data originally from Kaggle into memory for initial analysis and later simulation."
      ]
    },
    {
      "cell_type": "code",
      "metadata": {
        "id": "L38CfWIZ9xoj",
        "colab_type": "code",
        "colab": {}
      },
      "source": [
        "# Name Space Declarations\n",
        "import pandas as pd \n",
        "import random as rnd\n",
        "import numpy as np \n",
        "import matplotlib.pyplot as plt\n",
        "from matplotlib import style\n",
        "\n",
        "# Surpress warnings for chain assignments\n",
        "pd.options.mode.chained_assignment = None\n",
        "\n",
        "# Improve Plot Visibility\n",
        "style.use('dark_background')"
      ],
      "execution_count": null,
      "outputs": []
    },
    {
      "cell_type": "code",
      "metadata": {
        "id": "i0lcjxgJESYq",
        "colab_type": "code",
        "colab": {
          "base_uri": "https://localhost:8080/",
          "height": 816
        },
        "outputId": "b098c4a6-c874-44bf-937b-b6e7d520e993"
      },
      "source": [
        "# Import data (originally from Kaggle) to data frame\n",
        "url = 'https://github.com/AngelClaudio/DataSources/blob/master/nba_games_stats.csv?raw=true'\n",
        "\n",
        "# 1st Column Used as Unique Identifier\n",
        "original_nba_data = pd.read_csv(filepath_or_buffer = url, index_col=0)\n",
        "\n",
        "# Take a look at the data frame\n",
        "original_nba_data.info()"
      ],
      "execution_count": null,
      "outputs": [
        {
          "output_type": "stream",
          "text": [
            "<class 'pandas.core.frame.DataFrame'>\n",
            "Int64Index: 9840 entries, 1 to 82119\n",
            "Data columns (total 40 columns):\n",
            " #   Column                    Non-Null Count  Dtype  \n",
            "---  ------                    --------------  -----  \n",
            " 0   Team                      9840 non-null   object \n",
            " 1   Game                      9840 non-null   int64  \n",
            " 2   Date                      9840 non-null   object \n",
            " 3   Home                      9840 non-null   object \n",
            " 4   Opponent                  9840 non-null   object \n",
            " 5   WINorLOSS                 9840 non-null   object \n",
            " 6   TeamPoints                9840 non-null   int64  \n",
            " 7   OpponentPoints            9840 non-null   int64  \n",
            " 8   FieldGoals                9840 non-null   int64  \n",
            " 9   FieldGoalsAttempted       9840 non-null   int64  \n",
            " 10  FieldGoals.               9840 non-null   float64\n",
            " 11  X3PointShots              9840 non-null   int64  \n",
            " 12  X3PointShotsAttempted     9840 non-null   int64  \n",
            " 13  X3PointShots.             9840 non-null   float64\n",
            " 14  FreeThrows                9840 non-null   int64  \n",
            " 15  FreeThrowsAttempted       9840 non-null   int64  \n",
            " 16  FreeThrows.               9840 non-null   float64\n",
            " 17  OffRebounds               9840 non-null   int64  \n",
            " 18  TotalRebounds             9840 non-null   int64  \n",
            " 19  Assists                   9840 non-null   int64  \n",
            " 20  Steals                    9840 non-null   int64  \n",
            " 21  Blocks                    9840 non-null   int64  \n",
            " 22  Turnovers                 9840 non-null   int64  \n",
            " 23  TotalFouls                9840 non-null   int64  \n",
            " 24  Opp.FieldGoals            9840 non-null   int64  \n",
            " 25  Opp.FieldGoalsAttempted   9840 non-null   int64  \n",
            " 26  Opp.FieldGoals.           9840 non-null   float64\n",
            " 27  Opp.3PointShots           9840 non-null   int64  \n",
            " 28  Opp.3PointShotsAttempted  9840 non-null   int64  \n",
            " 29  Opp.3PointShots.          9840 non-null   float64\n",
            " 30  Opp.FreeThrows            9840 non-null   int64  \n",
            " 31  Opp.FreeThrowsAttempted   9840 non-null   int64  \n",
            " 32  Opp.FreeThrows.           9840 non-null   float64\n",
            " 33  Opp.OffRebounds           9840 non-null   int64  \n",
            " 34  Opp.TotalRebounds         9840 non-null   int64  \n",
            " 35  Opp.Assists               9840 non-null   int64  \n",
            " 36  Opp.Steals                9840 non-null   int64  \n",
            " 37  Opp.Blocks                9840 non-null   int64  \n",
            " 38  Opp.Turnovers             9840 non-null   int64  \n",
            " 39  Opp.TotalFouls            9840 non-null   int64  \n",
            "dtypes: float64(6), int64(29), object(5)\n",
            "memory usage: 3.1+ MB\n"
          ],
          "name": "stdout"
        }
      ]
    },
    {
      "cell_type": "markdown",
      "metadata": {
        "id": "RMX1bqXDYcLZ",
        "colab_type": "text"
      },
      "source": [
        "We can see the 1st column is just a random key used for the data, so we used it to index our data frame instead of using it as an explanatory feature. Other than that, it seems the data structure is complicit to your standard NBA stats for teams."
      ]
    },
    {
      "cell_type": "code",
      "metadata": {
        "id": "-ylRBNVloZzz",
        "colab_type": "code",
        "colab": {
          "base_uri": "https://localhost:8080/",
          "height": 34
        },
        "outputId": "9d971f39-46ca-4e8f-e5db-6afc0ec23ffa"
      },
      "source": [
        "# Make copy and keep original (for debugging purposes)\n",
        "nba_data = original_nba_data\n",
        "\n",
        "# Transform Date Column from \"object\"(string) to date to make it easier to work with\n",
        "nba_data['Date'] = pd.to_datetime(nba_data['Date'])\n",
        "\n",
        "# Look at Dates\n",
        "print(f\"Dates for this data set are from {nba_data['Date'].min()} to {nba_data['Date'].max()}\")"
      ],
      "execution_count": null,
      "outputs": [
        {
          "output_type": "stream",
          "text": [
            "Dates for this data set are from 2014-10-28 00:00:00 to 2018-04-11 00:00:00\n"
          ],
          "name": "stdout"
        }
      ]
    },
    {
      "cell_type": "markdown",
      "metadata": {
        "id": "nRw10jc-o2Sw",
        "colab_type": "text"
      },
      "source": [
        "We turned the dates column that was initially just strings into dates for ease of use. Checking the minimum and maximum values of the dates column we can see we are dealing with data consisting of the 2014 - 2018 NBA seasons."
      ]
    },
    {
      "cell_type": "markdown",
      "metadata": {
        "id": "asv5EqScT8vl",
        "colab_type": "text"
      },
      "source": [
        "# Exploratory Data Analysis (EDA)\n",
        "\n",
        "Here we will take a closer look at the data and analyze points of interests."
      ]
    },
    {
      "cell_type": "code",
      "metadata": {
        "id": "oQb54LZePno4",
        "colab_type": "code",
        "colab": {}
      },
      "source": [
        "# Subset Data into Two Teams for 2018 season, namely the finals teams.\n",
        "golden_state = nba_data[(nba_data.Team == 'GSW') & (nba_data['Date'] > '2017-10-01')]\n",
        "cleveland = nba_data[(nba_data.Team == 'CLE') & (nba_data['Date'] > '2017-10-01')]"
      ],
      "execution_count": null,
      "outputs": []
    },
    {
      "cell_type": "markdown",
      "metadata": {
        "id": "Y4eO9wJ_Vhnq",
        "colab_type": "text"
      },
      "source": [
        "We will subset the data to look at two teams using data from the 2018 season."
      ]
    },
    {
      "cell_type": "markdown",
      "metadata": {
        "id": "AL2FUw2wTFqY",
        "colab_type": "text"
      },
      "source": [
        "## Check for Normalization\n",
        "\n"
      ]
    },
    {
      "cell_type": "code",
      "metadata": {
        "id": "AV6d_jY4VTbo",
        "colab_type": "code",
        "colab": {
          "base_uri": "https://localhost:8080/",
          "height": 573
        },
        "outputId": "a70fe063-e410-47eb-a6f6-164f83ac7c95"
      },
      "source": [
        "# Visualize Data\n",
        "golden_state.TeamPoints.plot(kind='hist', label='GSW', alpha = .5, color='#87ceeb')\n",
        "cleveland.TeamPoints.plot(kind='hist', label='CLE', alpha = .5, color='#800020')\n",
        "plt.legend()\n",
        "plt.xlabel('Points')\n",
        "plt.title('Points Scored During 2018 Season')\n",
        "plt.show()\n",
        "\n",
        "golden_state.OpponentPoints.plot(kind='hist', label='GSW', alpha=.5, color='#87ceeb')\n",
        "cleveland.OpponentPoints.plot(kind='hist', label='CLE', alpha=.5,color='#800020')\n",
        "plt.legend()\n",
        "plt.xlabel('Points')\n",
        "plt.title('Opponents Points Scored During 2018 Season')\n",
        "plt.show()"
      ],
      "execution_count": null,
      "outputs": [
        {
          "output_type": "display_data",
          "data": {
            "image/png": "[encoded data removed]",
            "text/plain": [
              "<Figure size 432x288 with 1 Axes>"
            ]
          },
          "metadata": {
            "tags": [],
            "needs_background": "dark"
          }
        },
        {
          "output_type": "display_data",
          "data": {
            "image/png": "[encoded data removed]",
            "text/plain": [
              "<Figure size 432x288 with 1 Axes>"
            ]
          },
          "metadata": {
            "tags": [],
            "needs_background": "dark"
          }
        }
      ]
    },
    {
      "cell_type": "markdown",
      "metadata": {
        "id": "ETy9GxO8eLFL",
        "colab_type": "text"
      },
      "source": [
        "\n",
        "\n",
        "*   We can see the data for the \"TeamPoints\" attribute and the \"OpponentPoints\" attribute are normalized, this makes the data a good candidate for the Monte Carlo simulation.\n",
        "\n",
        "*   We will see later that the teams potential for scoring and points allowed by opponents will be used for predicting outcomes during simulations.\n",
        "\n",
        "\n",
        "*   Since the data has a normal distribution, we can use the mean and deviation for the Monte Carlo simulation since they will be reliable functions for integration.\n",
        "\n",
        "\n"
      ]
    },
    {
      "cell_type": "markdown",
      "metadata": {
        "id": "jEOXmmBD17az",
        "colab_type": "text"
      },
      "source": [
        "# Data Simulation\n",
        "\n",
        "The Monte Carlo Approximation Equation [6].\n",
        "\n",
        "![](https://github.com/AngelClaudio/DataSources/blob/master/Picts/equation.png?raw=true)\n",
        "\n",
        "### Mathematical Concept\n",
        "\n",
        "*   X is our score per team for which we will approximate, the higher the number of simulations, the better the approximation\n",
        "*   N is our population, or simulation count\n",
        "*   x will be the sampled summation of scores and points allowed by opponents divided by 2\n",
        "\n",
        "\n",
        "### Simulator Technical Algorithm\n",
        "\n",
        "\n",
        "1.   Using the ***random.gauss*** function, we will be passing the mean and standard deviation of points scored to randomize a sample score.\n",
        "\n",
        "2.   Next, we will repeat steps #1 for points allowed by opponents from the opposing team (you can think of this as quantifying the opponent's defense).\n",
        "\n",
        "3.   Finally, we will divide the sum of step 1 and 2 by 2 in order to approximate what a team would have possibly scored.\n",
        "\n",
        "The more we simulate the above, the more normalized of a distribution we will end up with - in other words the more we simulate the more accurate and reliable the results will be.\n",
        "\n",
        "\n",
        "\n",
        "\n",
        "\n"
      ]
    },
    {
      "cell_type": "markdown",
      "metadata": {
        "id": "CrpdVTQZdgbo",
        "colab_type": "text"
      },
      "source": [
        "### Game Simulator Creation\n",
        "\n",
        "We will create an NBA_Finals_Simulator class to use for simulation:\n",
        "\n",
        "\n",
        "*   In our simulator we will set the simulation number count to default at 10,000 to get reliable results - there are 9,840 observations, so 10,000 is an extra conservative trial simulation to meet the distribution for only 2 teams.\n",
        "\n",
        "*   For the 2018 season we will default to Golden State Warriors and Cleveland Cavaliers since they were the Finals contenders (spoiler alert: Golden State won).\n",
        "\n",
        "*   Our class will be flexible enough to accept simulation with other teams, so we will experiment how reliable it is for setting up other teams against each other that were in the play-offs for 2018.\n",
        "\n"
      ]
    },
    {
      "cell_type": "code",
      "metadata": {
        "id": "ezw4HNWw1_s1",
        "colab_type": "code",
        "colab": {}
      },
      "source": [
        "class NBA_Finals_Simulator:\n",
        "  def __init__(self, team_one ='GSW', team_two ='CLE'):\n",
        "      self.team_one_name = team_one\n",
        "      self.team_two_name = team_two \n",
        "      self.nba_data = self.team_one = self.team_two = pd.DataFrame()  \n",
        "\n",
        "      # Parameters\n",
        "      self.team1_mean_pts = self.team1_std_pts = self.team1_mean_pts_allowed = self.team1_std_pts_allowed = 0\n",
        "      self.team2_mean_pts = self.team2_mean_pts_allowed = self.team2_std_pts = self.team2_std_pts_allowed = 0\n",
        "\n",
        "      # Pop Class\n",
        "      self.set_data()\n",
        "      self.set_parameters()\n",
        "\n",
        "  def set_data(self):\n",
        "      url = 'https://github.com/AngelClaudio/DataSources/blob/master/nba_games_stats.csv?raw=true'\n",
        "      _data = pd.read_csv(filepath_or_buffer = url, index_col=0)\n",
        "      _data['Date'] = pd.to_datetime(_data['Date'])\n",
        "\n",
        "      # alpha only 2018 season\n",
        "      _data = nba_data[nba_data['Date'] > '2017-10-01']\n",
        "      self.team_one = _data[_data.Team == self.team_one_name]\n",
        "      self.team_two = _data[_data.Team == self.team_two_name]\n",
        "      self.nba_data = _data\n",
        "\n",
        "  # For resetting and trying other teams\n",
        "  def set_teams(self, team_one_name, team_two_name):\n",
        "      self.team_one_name = team_one_name\n",
        "      self.team_two_name = team_two_name \n",
        "      self.team_one = self.nba_data[self.nba_data.Team == self.team_one_name]\n",
        "      self.team_two = self.nba_data[self.nba_data.Team == self.team_two_name]\n",
        "      self.set_parameters()\n",
        "\n",
        "  # See teams\n",
        "  def show_teams(self):\n",
        "    print(self.nba_data['Team'].unique())\n",
        "\n",
        "  # See distribution comparisons for points and points allowed visualizations\n",
        "  def show_team_comparisons(self):\n",
        "      self.team_one.TeamPoints.plot(kind='hist', label=self.team_one_name, alpha = .5, color='white')\n",
        "      self.team_two.TeamPoints.plot(kind='hist', label=self.team_two_name, alpha = .5, color='navy')\n",
        "      plt.legend()\n",
        "      plt.xlabel('Points')\n",
        "      plt.title('Points Scored During 2018 Season')\n",
        "      plt.show()\n",
        "\n",
        "      self.team_one.OpponentPoints.plot(kind='hist', label=self.team_one_name, alpha=.5, color='white')\n",
        "      self.team_two.OpponentPoints.plot(kind='hist', label=self.team_two_name, alpha=.5,color='navy')\n",
        "      plt.legend()\n",
        "      plt.xlabel('Points')\n",
        "      plt.title('Points Allowed During 2018 Season')\n",
        "      plt.show()\n",
        "\n",
        "  def set_parameters(self):\n",
        "      # Team One Means and Standard Deviations\n",
        "      self.team1_mean_pts = self.team_one.TeamPoints.mean()\n",
        "      self.team1_std_pts = self.team_one.TeamPoints.std()      \n",
        "      self.team1_mean_pts_allowed = self.team_one.OpponentPoints.mean()\n",
        "      self.team1_std_pts_allowed = self.team_one.OpponentPoints.std()\n",
        "\n",
        "      # Team Two Means and Standard Deviations\n",
        "      self.team2_mean_pts = self.team_two.TeamPoints.mean()\n",
        "      self.team2_mean_pts_allowed = self.team_two.OpponentPoints.mean()\n",
        "      self.team2_std_pts = self.team_two.TeamPoints.std()\n",
        "      self.team2_std_pts_allowed = self.team_two.OpponentPoints.std()\n",
        "\n",
        "  def monte_carlo_sim(self):\n",
        "      # Simulation Model\n",
        "      team1_scored = (rnd.gauss(self.team1_mean_pts, self.team1_std_pts) +\n",
        "                  rnd.gauss(self.team2_mean_pts_allowed,self.team2_std_pts_allowed))/2\n",
        "\n",
        "      team2_scored = (rnd.gauss(self.team2_mean_pts, self.team2_std_pts) + \n",
        "                 rnd.gauss(self.team1_mean_pts_allowed, self.team1_std_pts_allowed))/2\n",
        "\n",
        "      # Evaluate Scores and Return Result\n",
        "      if int(round(team1_scored)) > int(round(team2_scored)):\n",
        "          return 1\n",
        "      elif int(round(team1_scored)) < int(round(team2_scored)):\n",
        "          return -1\n",
        "      else: return 0 \n",
        "\n",
        "  def simulate_finals(self, number_of_simulations=10000):  \n",
        "    # Variable Place Holder Declarations\n",
        "    result = team1_win_count = team1_win_count = team2_win_count = tie_count = 0\n",
        "\n",
        "    # Trial simulations invoked here!\n",
        "    for _ in range(number_of_simulations):\n",
        "       \n",
        "        # Run Trial Simulation\n",
        "        result = self.monte_carlo_sim()\n",
        "\n",
        "        # Tally results\n",
        "        if result == 1:\n",
        "            team1_win_count +=1 \n",
        "        elif result == -1:\n",
        "            team2_win_count +=1\n",
        "        else: tie_count +=1 \n",
        "\n",
        "    # Display to user results! \\,,/(^_^)\\,,/\n",
        "    print(self.team_one_name, \"won\", \"{:.4%}\".format(team1_win_count/number_of_simulations), \"of the time.\")\n",
        "    print(self.team_two_name, \"won\", \"{:.4%}\".format(team2_win_count/number_of_simulations), \"of the time.\")\n",
        "    print(\"Both tied at\", \"{:.4%}\".format(tie_count/number_of_simulations), \"of the time.\")"
      ],
      "execution_count": null,
      "outputs": []
    },
    {
      "cell_type": "markdown",
      "metadata": {
        "id": "I5Nayqti3FrZ",
        "colab_type": "text"
      },
      "source": [
        "### Instantiate Simulator\n",
        "\n",
        "The Simulator by default will set the two teams to the championship finals, Cleveland Cavaliers and Golden State Warriors. Below we will validate by printing out the teams that are currently set up."
      ]
    },
    {
      "cell_type": "code",
      "metadata": {
        "id": "4DzUK0hm3J5K",
        "colab_type": "code",
        "colab": {
          "base_uri": "https://localhost:8080/",
          "height": 51
        },
        "outputId": "35a48553-f49c-44c2-d718-ab49691853a3"
      },
      "source": [
        "nba_sims = NBA_Finals_Simulator()\n",
        "print(nba_sims.team_one_name)\n",
        "print(nba_sims.team_two_name)"
      ],
      "execution_count": null,
      "outputs": [
        {
          "output_type": "stream",
          "text": [
            "GSW\n",
            "CLE\n"
          ],
          "name": "stdout"
        }
      ]
    },
    {
      "cell_type": "markdown",
      "metadata": {
        "id": "h5qYZvV0SIJO",
        "colab_type": "text"
      },
      "source": [
        "### Run Simulator\n",
        "\n",
        "We will run the simulation which will run 10,000 simulated runs to predict the probability of the outcome."
      ]
    },
    {
      "cell_type": "code",
      "metadata": {
        "id": "AdP8RaRSSGdp",
        "colab_type": "code",
        "colab": {
          "base_uri": "https://localhost:8080/",
          "height": 68
        },
        "outputId": "afcf55d7-5c50-41a4-bef4-90afd8199cd2"
      },
      "source": [
        "nba_sims.simulate_finals()"
      ],
      "execution_count": null,
      "outputs": [
        {
          "output_type": "stream",
          "text": [
            "GSW won 55.9200% of the time.\n",
            "CLE won 41.1400% of the time.\n",
            "Both tied at 2.9400% of the time.\n"
          ],
          "name": "stdout"
        }
      ]
    },
    {
      "cell_type": "markdown",
      "metadata": {
        "id": "jw1a165DyJ4u",
        "colab_type": "text"
      },
      "source": [
        "As we can see the simulator predicted correctly that Golden State Warriors would have won!"
      ]
    },
    {
      "cell_type": "markdown",
      "metadata": {
        "id": "J02-8qxkhUCR",
        "colab_type": "text"
      },
      "source": [
        "### Run Simulator for Play Off Teams\n",
        "\n",
        "<center>\n",
        "\n",
        "![](https://github.com/AngelClaudio/DataSources/blob/master/Picts/2018-NBA-Playoff-Bracket_04-20-18.png?raw=true)\n",
        "\n",
        "</center>"
      ]
    },
    {
      "cell_type": "markdown",
      "metadata": {
        "id": "V6JFFJ5uk8lb",
        "colab_type": "text"
      },
      "source": [
        "As you can see from the above bracket, there were many teams in the playoffs that just barely lost. Some of those loses fans may attribute to flukes of some sort. The simulator can come in handy now as we can simulate \"what-if\" scenarios for those teams that didn't make it to the championships."
      ]
    },
    {
      "cell_type": "markdown",
      "metadata": {
        "id": "ERiN4InZl27D",
        "colab_type": "text"
      },
      "source": [
        "# What-If Simulation"
      ]
    },
    {
      "cell_type": "markdown",
      "metadata": {
        "id": "CF3M8gbz6EBj",
        "colab_type": "text"
      },
      "source": [
        "Let's run the *show_teams* function to see the names we can use when running the simulation."
      ]
    },
    {
      "cell_type": "code",
      "metadata": {
        "id": "nts9PXfunQMR",
        "colab_type": "code",
        "colab": {
          "base_uri": "https://localhost:8080/",
          "height": 68
        },
        "outputId": "18feced1-1a5b-42e5-a797-fc8d7e498daa"
      },
      "source": [
        "nba_sims.show_teams()"
      ],
      "execution_count": null,
      "outputs": [
        {
          "output_type": "stream",
          "text": [
            "['ATL' 'BOS' 'BRK' 'CHO' 'CHI' 'CLE' 'DAL' 'DEN' 'DET' 'GSW' 'HOU' 'IND'\n",
            " 'LAC' 'LAL' 'MEM' 'MIA' 'MIL' 'MIN' 'NOP' 'NYK' 'OKC' 'ORL' 'PHI' 'PHO'\n",
            " 'POR' 'SAC' 'SAS' 'TOR' 'UTA' 'WAS']\n"
          ],
          "name": "stdout"
        }
      ]
    },
    {
      "cell_type": "markdown",
      "metadata": {
        "id": "afpVoGWAyaWM",
        "colab_type": "text"
      },
      "source": [
        "Houston Rockets fans that year had high hopes of winning a championship again since their last one was in 1995, what would have happened if they were not stopped by 3 and 4 by the Golden State Warriors?"
      ]
    },
    {
      "cell_type": "code",
      "metadata": {
        "id": "4fHO9R8inDTJ",
        "colab_type": "code",
        "colab": {}
      },
      "source": [
        "nba_sims.set_teams(\"HOU\",\"CLE\")"
      ],
      "execution_count": null,
      "outputs": []
    },
    {
      "cell_type": "code",
      "metadata": {
        "id": "TlHxP8vjnjXi",
        "colab_type": "code",
        "colab": {
          "base_uri": "https://localhost:8080/",
          "height": 68
        },
        "outputId": "86ca07c3-e941-4aac-c3d1-15528cd73f5d"
      },
      "source": [
        "nba_sims.simulate_finals()"
      ],
      "execution_count": null,
      "outputs": [
        {
          "output_type": "stream",
          "text": [
            "HOU won 60.7600% of the time.\n",
            "CLE won 36.1300% of the time.\n",
            "Both tied at 3.1100% of the time.\n"
          ],
          "name": "stdout"
        }
      ]
    },
    {
      "cell_type": "markdown",
      "metadata": {
        "id": "ltXjvbwK6T6z",
        "colab_type": "text"
      },
      "source": [
        "Interesting, it seems that Houston would not only have beaten Cleveland, but more definitively than the Golden State Warriors - let's analyze their stats to see if this even makes sense."
      ]
    },
    {
      "cell_type": "code",
      "metadata": {
        "id": "QDpHHruRqgiP",
        "colab_type": "code",
        "colab": {
          "base_uri": "https://localhost:8080/",
          "height": 573
        },
        "outputId": "4dc699ec-b30b-4ded-9b04-68f65ea5bd7e"
      },
      "source": [
        "nba_sims.show_team_comparisons()"
      ],
      "execution_count": null,
      "outputs": [
        {
          "output_type": "display_data",
          "data": {
            "image/png": "[encoded data removed]",
            "text/plain": [
              "<Figure size 432x288 with 1 Axes>"
            ]
          },
          "metadata": {
            "tags": [],
            "needs_background": "dark"
          }
        },
        {
          "output_type": "display_data",
          "data": {
            "image/png": "[encoded data removed]",
            "text/plain": [
              "<Figure size 432x288 with 1 Axes>"
            ]
          },
          "metadata": {
            "tags": [],
            "needs_background": "dark"
          }
        }
      ]
    },
    {
      "cell_type": "markdown",
      "metadata": {
        "id": "aPC6rjbNrZen",
        "colab_type": "text"
      },
      "source": [
        "Although both teams definitely had great scoring prowness, Houston's defense was definitely going to be a bigger problem for Cleveland, and from the results we could probably safely predict that they would have swept Cleveland as well."
      ]
    },
    {
      "cell_type": "markdown",
      "metadata": {
        "id": "dy833MV5sBwn",
        "colab_type": "text"
      },
      "source": [
        "### How Close was Houston to Winning it All?\n",
        "\n",
        "Houston seemed to be such a strong team, so how did Golden State Warriors win by that margin? Let's simulate Houston versus Golden State Warriors."
      ]
    },
    {
      "cell_type": "code",
      "metadata": {
        "id": "H8L8cogWsL0R",
        "colab_type": "code",
        "colab": {
          "base_uri": "https://localhost:8080/",
          "height": 573
        },
        "outputId": "f63acfe0-a1b6-4e46-8e1e-b94dae8bc324"
      },
      "source": [
        "nba_sims.set_teams(\"HOU\", \"GSW\")\n",
        "nba_sims.show_team_comparisons()\n"
      ],
      "execution_count": null,
      "outputs": [
        {
          "output_type": "display_data",
          "data": {
            "image/png": "[encoded data removed]",
            "text/plain": [
              "<Figure size 432x288 with 1 Axes>"
            ]
          },
          "metadata": {
            "tags": [],
            "needs_background": "dark"
          }
        },
        {
          "output_type": "display_data",
          "data": {
            "image/png": "[encoded data removed]",
            "text/plain": [
              "<Figure size 432x288 with 1 Axes>"
            ]
          },
          "metadata": {
            "tags": [],
            "needs_background": "dark"
          }
        }
      ]
    },
    {
      "cell_type": "code",
      "metadata": {
        "id": "8-ENgShAsei8",
        "colab_type": "code",
        "colab": {
          "base_uri": "https://localhost:8080/",
          "height": 68
        },
        "outputId": "65cba70a-8a07-4180-af8a-12d78f3b5d58"
      },
      "source": [
        "nba_sims.simulate_finals()"
      ],
      "execution_count": null,
      "outputs": [
        {
          "output_type": "stream",
          "text": [
            "HOU won 53.2900% of the time.\n",
            "GSW won 43.6300% of the time.\n",
            "Both tied at 3.0800% of the time.\n"
          ],
          "name": "stdout"
        }
      ]
    },
    {
      "cell_type": "markdown",
      "metadata": {
        "id": "BD1Irp5TzKAO",
        "colab_type": "text"
      },
      "source": [
        "Intersting, in our simulation we see that it wrongly predicts that Houston would have beaten Golden State. We can see that Houston's defense holds it's own against the Golden State Warriors, while their offense capabilities seem fairly even. However, is this portrayal of their offensive capabilities accurate?"
      ]
    },
    {
      "cell_type": "markdown",
      "metadata": {
        "id": "DhT3XmP8VV_E",
        "colab_type": "text"
      },
      "source": [
        "### Final Analysis"
      ]
    },
    {
      "cell_type": "markdown",
      "metadata": {
        "id": "OAIcKkeYtXA6",
        "colab_type": "text"
      },
      "source": [
        "So how come Houston was predicted as beating Golden State but in reality they didn't?\n",
        "\n",
        "The simulator assumes that all factors in the team are consistent, when in reality they were not. For example, Steph Curry of the Golden State Warriors, one of the best scorers in the entire league, had been injured in a fair amount of regular season games and even in an actual play-off game.\n",
        "\n",
        "Our simulator (as well as many real life analytics at the time) did not take these extra events into account. General Team Managers and Data Analytics were ranting and raving that Houston should of clearly won based on models, they failed to understand the limitations of their statistical findings.\n",
        "\n",
        "This is the bane of most simulators, and models, they assume a certain level of consistency, a caveat that we should always be mindful of. Sometimes those limitations are apparent to subject matter experts, but more often than most they are discovered and hardened in the minds of the data scientists working the data over and over again.\n"
      ]
    },
    {
      "cell_type": "markdown",
      "metadata": {
        "id": "GwUQCTgQvTnW",
        "colab_type": "text"
      },
      "source": [
        "# Concluding Thoughts\n",
        "\n",
        "So Houston Fans, maybe it wasn't Harding's fault after all, perhaps the Golden State Warriors simply had a much better offensive statistic than models were able to perceive correctly.\n",
        "\n",
        "The simulator I created is definitely an alpha release and has much room for improvement, for example we can include an enhancement to web scrape the most current NBA data, as well as introduce a skew in our simulation model that accounts for injuries or some other explanatory variables that currently are not used. A future project I would like to pursue is a simulator that is based on current team roster and their player stats used as predictors. \n",
        "\n",
        "Overall our research has shown how well simulators can work, and also what are the underlying limitations that we need to be aware of as well."
      ]
    },
    {
      "cell_type": "markdown",
      "metadata": {
        "id": "kugvJq1p0iKg",
        "colab_type": "text"
      },
      "source": [
        "# References\n",
        "\n",
        "1. [https://youtu.be/AyBNnkYrSWY](https://youtu.be/AyBNnkYrSWY)\n",
        "\n",
        "2. [http://leios.github.io/Batman_Montecarlo](http://leios.github.io/Batman_Montecarlo)\n",
        "\n",
        "3. [https://www.kaggle.com/ionaskel/nba-games-stats-from-2014-to-2018](https://www.kaggle.com/ionaskel/nba-games-stats-from-2014-to-2018)\n",
        "\n",
        "4. [https://www.playingnumbers.com/2019/12/how-to-get-nba-data-using-the-nba_api-python-module-beginner/](https://www.playingnumbers.com/2019/12/how-to-get-nba-data-using-the-nba_api-python-module-beginner/)\n",
        "\n",
        "5. [https://www.landofbasketball.com/yearbyyear/2017_2018_playoffs_brackets.htm](https://www.landofbasketball.com/yearbyyear/2017_2018_playoffs_brackets.htm)\n",
        "\n",
        "6. [https://www.scratchapixel.com/lessons/mathematics-physics-for-computer-graphics/monte-carlo-methods-mathematical-foundations#:~:text=To%20summarize%2C%20Monte%20Carlo%20approximation,%E2%88%91n%3D1xn.](https://www.scratchapixel.com/lessons/mathematics-physics-for-computer-graphics/monte-carlo-methods-mathematical-foundations#:~:text=To%20summarize%2C%20Monte%20Carlo%20approximation,%E2%88%91n%3D1xn.)"
      ]
    }
  ]
}